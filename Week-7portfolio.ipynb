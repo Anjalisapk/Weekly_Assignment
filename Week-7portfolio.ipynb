{
 "cells": [
  {
   "cell_type": "markdown",
   "id": "6b60fe41",
   "metadata": {},
   "source": [
    "1.Write and test a function that takes a string as a parameter and returns a sorted list of all the unique letters used in the string. So, if the string is cheese, the list returned should be ['c', 'e', 'h', 's']."
   ]
  },
  {
   "cell_type": "code",
   "execution_count": 1,
   "id": "9e896098",
   "metadata": {},
   "outputs": [
    {
     "name": "stdout",
     "output_type": "stream",
     "text": [
      "Enter a string: cheese\n",
      "Unique letters in the string: ['c', 'e', 'h', 's']\n"
     ]
    }
   ],
   "source": [
    "def unique_letters(string):\n",
    "    # Use set to get unique letters and then convert to a sorted list\n",
    "    unique_letter_list = sorted(list(set(string.lower())))\n",
    "\n",
    "    return unique_letter_list\n",
    "\n",
    "# Test the function\n",
    "input_string = input(\"Enter a string: \")\n",
    "result = unique_letters(input_string)\n",
    "\n",
    "print(f\"Unique letters in the string: {result}\")\n"
   ]
  },
  {
   "cell_type": "markdown",
   "id": "2ed7ea71",
   "metadata": {},
   "source": [
    "2.Write and test three functions that each take two words (strings) as parameters and return sorted lists (as defined above) representing respectively:\n",
    "Letters that appear in at least one of the two words.\n",
    "Letters that appear in both words.\n",
    "Letters that appear in either word, but not in both.\n",
    "Hint: These could all be done programmatically, but consider carefully what topic we have been discussing this week! Each function can be exactly one line."
   ]
  },
  {
   "cell_type": "code",
   "execution_count": null,
   "id": "3e05564e",
   "metadata": {},
   "outputs": [],
   "source": [
    "def letters_in_either(word1, word2):\n",
    "    return sorted(list(set(word1.lower()) | set(word2.lower())))\n",
    "\n",
    "def letters_in_both(word1, word2):\n",
    "    return sorted(list(set(word1.lower()) & set(word2.lower())))\n",
    "\n",
    "def letters_in_either_not_both(word1, word2):\n",
    "    return sorted(list(set(word1.lower()) ^ set(word2.lower())))\n",
    "\n",
    "# Test the functions\n",
    "word1 = input(\"Enter the first word: \")\n",
    "word2 = input(\"Enter the second word: \")\n",
    "\n",
    "result_either = letters_in_either(word1, word2)\n",
    "result_both = letters_in_both(word1, word2)\n",
    "result_either_not_both = letters_in_either_not_both(word1, word2)\n",
    "\n",
    "print(f\"\\nLetters in either word: {result_either}\")\n",
    "print(f\"Letters in both words: {result_both}\")\n",
    "print(f\"Letters in either, but not in both: {result_either_not_both}\")\n"
   ]
  },
  {
   "cell_type": "markdown",
   "id": "cb326143",
   "metadata": {},
   "source": [
    "3.Write a program that manages a list of countries and their capital cities. It should prompt the user to enter the name of a country. If the program already \"knows\" the name of the capital city, it should display it. Otherwise it should ask the user to enter it. This should carry on until the user terminates the program (how this happens is up to you).\n",
    "\n",
    "Note: A good solution to this task will be able to cope with the country being entered\n",
    "variously as, for example, \"Wales\", \"wales\", \"WALES\" and so on."
   ]
  },
  {
   "cell_type": "code",
   "execution_count": null,
   "id": "4edc48be",
   "metadata": {},
   "outputs": [],
   "source": [
    "# Dictionary to store country-capital pairs\n",
    "country_capital_dict = {}\n",
    "\n",
    "def get_normalized_input(prompt):\n",
    "    # Function to normalize user input (e.g., convert to lowercase)\n",
    "    user_input = input(prompt)\n",
    "    return user_input.lower()\n",
    "\n",
    "def add_country_capital():\n",
    "    # Function to add a country and its capital to the dictionary\n",
    "    country = get_normalized_input(\"Enter the name of the country: \")\n",
    "    capital = get_normalized_input(f\"Enter the capital of {country}: \")\n",
    "    country_capital_dict[country] = capital\n",
    "    print(f\"{country}'s capital ({capital}) has been added.\\n\")\n",
    "\n",
    "def display_capital():\n",
    "    # Function to display the capital of a given country\n",
    "    country = get_normalized_input(\"Enter the name of the country: \")\n",
    "    capital = country_capital_dict.get(country, None)\n",
    "    if capital:\n",
    "        print(f\"The capital of {country} is {capital}.\\n\")\n",
    "    else:\n",
    "        print(f\"Sorry, the capital of {country} is not known.\\n\")\n",
    "\n",
    "# Main program loop\n",
    "while True:\n",
    "    print(\"1. Display capital\")\n",
    "    print(\"2. Add country and capital\")\n",
    "    print(\"3. Exit\")\n",
    "\n",
    "    choice = input(\"Enter your choice (1, 2, or 3): \")\n",
    "\n",
    "    if choice == '1':\n",
    "        display_capital()\n",
    "    elif choice == '2':\n",
    "        add_country_capital()\n",
    "    elif choice == '3':\n",
    "        print(\"Exiting the program. Goodbye!\")\n",
    "        break\n",
    "    else:\n",
    "        print(\"Invalid choice. Please enter 1, 2, or 3.\\n\")\n"
   ]
  },
  {
   "cell_type": "markdown",
   "id": "0ef74398",
   "metadata": {},
   "source": [
    "4.One approach to analysing some encrypted data where a substitution is suspected is frequency analysis. A count of the different symbols in the message can be used to identify the language used, and sometimes some of the letters. In English, the most common letter is \"e\", and so the symbol representing \"e\" should appear most in the encrypted text.\n",
    "\n",
    "Write a program that processes a string representing a message and reports the six most common letters, along with the number of times they appear. Case should not matter, so \"E\" and \"e\" are considered the same.\n",
    "\n",
    "Hint: There are many ways to do this. It is obviously a dictionary, but we will want\n",
    "zero counts, so some initialisation is needed. Also, sorting dictionaries is tricky, so"
   ]
  },
  {
   "cell_type": "code",
   "execution_count": null,
   "id": "f1e17601",
   "metadata": {},
   "outputs": [],
   "source": [
    "def frequency_analysis(message):\n",
    "    # Initialize a dictionary to store letter frequencies\n",
    "    letter_counts = {}\n",
    "\n",
    "    # Process each character in the message\n",
    "    for char in message:\n",
    "        # Consider only alphabetic characters\n",
    "        if char.isalpha():\n",
    "            char_lower = char.lower()\n",
    "            # Increment the count for the lowercase letter in the dictionary\n",
    "            letter_counts[char_lower] = letter_counts.get(char_lower, 0) + 1\n",
    "\n",
    "    # Sort the dictionary by values in descending order\n",
    "    sorted_counts = sorted(letter_counts.items(), key=lambda x: x[1], reverse=True)\n",
    "\n",
    "    # Display the six most common letters and their counts\n",
    "    print(\"Six most common letters and their counts:\")\n",
    "    for i in range(min(6, len(sorted_counts))):\n",
    "        print(f\"{sorted_counts[i][0]}: {sorted_counts[i][1]}\")\n",
    "\n",
    "# Test the function\n",
    "message_input = input(\"Enter the message for frequency analysis: \")\n",
    "frequency_analysis(message_input)\n"
   ]
  }
 ],
 "metadata": {
  "kernelspec": {
   "display_name": "Python 3 (ipykernel)",
   "language": "python",
   "name": "python3"
  },
  "language_info": {
   "codemirror_mode": {
    "name": "ipython",
    "version": 3
   },
   "file_extension": ".py",
   "mimetype": "text/x-python",
   "name": "python",
   "nbconvert_exporter": "python",
   "pygments_lexer": "ipython3",
   "version": "3.9.13"
  }
 },
 "nbformat": 4,
 "nbformat_minor": 5
}
