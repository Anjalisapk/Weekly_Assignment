{
 "cells": [
  {
   "cell_type": "markdown",
   "id": "c3a2d9c3",
   "metadata": {},
   "source": [
    "1.Last week you wrote a program that printed out a cheery greeting including your name. Take a copy of it, and modify it so that the user enters their name at the keyboard, and then receives a greeting. For example:\n",
    "Hello, what is your name? Mr Apricot\n",
    "Hello, Mr Apricot. Good to meet you!"
   ]
  },
  {
   "cell_type": "code",
   "execution_count": 1,
   "id": "0306eb55",
   "metadata": {},
   "outputs": [
    {
     "name": "stdout",
     "output_type": "stream",
     "text": [
      "Hello, what is your name? anjali\n",
      "Hello, anjali. Good to meet you!\n"
     ]
    }
   ],
   "source": [
    "def greet_user():\n",
    "    # Prompt the user for their name\n",
    "    user_name = input(\"Hello, what is your name? \")\n",
    "\n",
    "    # Display a personalized greeting\n",
    "    print(f\"Hello, {user_name}. Good to meet you!\")\n",
    "\n",
    "# Call the function to greet the user\n",
    "greet_user()\n"
   ]
  },
  {
   "cell_type": "markdown",
   "id": "d1081763",
   "metadata": {},
   "source": [
    "2.Write a program that prompts a user to enter a temperature in Celsius, and then displays the corresponding temperature in Fahrenheit, like so:\n",
    "Enter a temperature in Celsius: 32.5\n",
    "32.5C is equivalent to 90.5F."
   ]
  },
  {
   "cell_type": "code",
   "execution_count": null,
   "id": "3855b054",
   "metadata": {},
   "outputs": [],
   "source": [
    "def celsius_to_fahrenheit():\n",
    "    # Prompt the user to enter a temperature in Celsius\n",
    "    celsius_temperature = float(input(\"Enter a temperature in Celsius: \"))\n",
    "\n",
    "    # Convert Celsius to Fahrenheit\n",
    "    fahrenheit_temperature = (celsius_temperature * 9/5) + 32\n",
    "\n",
    "    # Display the result\n",
    "    print(f\"{celsius_temperature}C is equivalent to {fahrenheit_temperature}F.\")\n",
    "\n",
    "# Call the function to convert and display temperatures\n",
    "celsius_to_fahrenheit()\n"
   ]
  },
  {
   "cell_type": "markdown",
   "id": "4136e397",
   "metadata": {},
   "source": [
    "3.The Head of Computing at the University of Poppleton is tasked with dividing a group of students into lab groups. A lab group is usually 24 students, but this is sometimes varied to create groups of similar size. Write a program that prompts for the number of students and group size, and then displays how many groups will be needed and how many will be left over in a smaller group.\n",
    "\n",
    "How many students? 113\n",
    "Required group size? 22\n",
    "\n",
    "There will be 5 groups with 3 students left over. For bonus credit, see if you can fix the grammar in the output. So if there were 101 students in groups of 20 the output would be:\n",
    "There will be 5 groups with 1 student left over."
   ]
  },
  {
   "cell_type": "code",
   "execution_count": null,
   "id": "a85488a1",
   "metadata": {},
   "outputs": [],
   "source": [
    "def calculate_groups_and_remainder():\n",
    "    # Prompt the user for the number of students\n",
    "    num_students = int(input(\"How many students? \"))\n",
    "\n",
    "    # Prompt the user for the desired group size\n",
    "    group_size = int(input(\"Required group size? \"))\n",
    "\n",
    "    # Calculate the number of groups and remainder\n",
    "    num_groups = num_students // group_size\n",
    "    remainder = num_students % group_size\n",
    "\n",
    "    # Display the result with proper grammar\n",
    "    if num_groups == 1:\n",
    "        print(f\"There will be 1 group with {remainder} student{'s' if remainder != 1 else ''} left over.\")\n",
    "    elif remainder == 0:\n",
    "        print(f\"There will be {num_groups} groups with no students left over.\")\n",
    "    else:\n",
    "        print(f\"There will be {num_groups} groups with {remainder} student{'s' if remainder != 1 else ''} left over.\")\n",
    "\n",
    "# Call the function to calculate and display groups and remainder\n",
    "calculate_groups_and_remainder()\n"
   ]
  },
  {
   "cell_type": "markdown",
   "id": "f473d7e5",
   "metadata": {},
   "source": [
    "4.A kindly teacher wishes to distribute a tub of sweets between her pupils. She will first count the sweets and then divide them according to how many pupils attend that day. Write a program that will tell the teacher how many sweets to give to each pupil, and how many she will have left over."
   ]
  },
  {
   "cell_type": "code",
   "execution_count": null,
   "id": "9e296849",
   "metadata": {},
   "outputs": [],
   "source": [
    "def distribute_sweets():\n",
    "    # Prompt the teacher for the total number of sweets\n",
    "    total_sweets = int(input(\"Enter the total number of sweets: \"))\n",
    "\n",
    "    # Prompt the teacher for the number of pupils\n",
    "    num_pupils = int(input(\"Enter the number of pupils: \"))\n",
    "\n",
    "    # Calculate how many sweets each pupil will receive and the remainder\n",
    "    sweets_per_pupil = total_sweets // num_pupils\n",
    "    remainder = total_sweets % num_pupils\n",
    "\n",
    "    # Display the result\n",
    "    print(f\"Each pupil will receive {sweets_per_pupil} sweets, with {remainder} sweets left over.\")\n",
    "\n",
    "# Call the function to distribute sweets\n",
    "distribute_sweets()\n"
   ]
  }
 ],
 "metadata": {
  "kernelspec": {
   "display_name": "Python 3 (ipykernel)",
   "language": "python",
   "name": "python3"
  },
  "language_info": {
   "codemirror_mode": {
    "name": "ipython",
    "version": 3
   },
   "file_extension": ".py",
   "mimetype": "text/x-python",
   "name": "python",
   "nbconvert_exporter": "python",
   "pygments_lexer": "ipython3",
   "version": "3.9.13"
  }
 },
 "nbformat": 4,
 "nbformat_minor": 5
}
