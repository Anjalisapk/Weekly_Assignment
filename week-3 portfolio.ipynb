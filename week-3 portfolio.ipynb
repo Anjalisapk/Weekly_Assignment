{
 "cells": [
  {
   "cell_type": "markdown",
   "id": "e3dd61d1",
   "metadata": {},
   "source": [
    "1.Modify your greeting program so that if the user does not enter a name (i.e. they just press enter), the program responds \"Hello, Stranger!\". Otherwise it should print\n",
    "a greeting with their name as before."
   ]
  },
  {
   "cell_type": "code",
   "execution_count": null,
   "id": "8b093a99",
   "metadata": {},
   "outputs": [],
   "source": [
    "def greet_user():\n",
    "    # Prompt the user for their name\n",
    "    user_name = input(\"Enter your name (or press Enter to be a Stranger): \")\n",
    "\n",
    "    # Check if the user entered a name\n",
    "    if user_name:\n",
    "        # Format the name with the first letter in uppercase and the rest in lowercase\n",
    "        formatted_name = user_name.capitalize()\n",
    "        # Display the greeting with the name\n",
    "        print(f\"Hello, {formatted_name}!\")\n",
    "    else:\n",
    "        # If the user pressed Enter, greet as \"Stranger\"\n",
    "        print(\"Hello, Stranger!\")\n",
    "\n",
    "# Call the function to greet the user\n",
    "greet_user()\n"
   ]
  },
  {
   "cell_type": "markdown",
   "id": "aab5b720",
   "metadata": {},
   "source": [
    "2.Write a program that simulates the way in which a user might choose a password. The program should prompt for a new password, and then prompt again. If the twopasswords entered are the same the program should say \"Password Set\" or similar, otherwise it should report an error."
   ]
  },
  {
   "cell_type": "code",
   "execution_count": null,
   "id": "4001f0ba",
   "metadata": {},
   "outputs": [],
   "source": [
    "def set_password():\n",
    "    # Prompt the user for a new password\n",
    "    password1 = input(\"Enter a new password: \")\n",
    "\n",
    "    # Prompt the user to confirm the password\n",
    "    password2 = input(\"Confirm the password: \")\n",
    "\n",
    "    # Check if the passwords match\n",
    "    if password1 == password2:\n",
    "        print(\"Password Set\")\n",
    "    else:\n",
    "        print(\"Error: Passwords do not match. Please try again.\")\n",
    "\n",
    "# Call the function to set the password\n",
    "set_password()\n"
   ]
  },
  {
   "cell_type": "markdown",
   "id": "72426af9",
   "metadata": {},
   "source": [
    "3.Modify your previous program so that the password must be between 8 and 12 characters (inclusive) long."
   ]
  },
  {
   "cell_type": "code",
   "execution_count": null,
   "id": "73e85314",
   "metadata": {},
   "outputs": [],
   "source": [
    "def set_password():\n",
    "    while True:\n",
    "        # Prompt the user for a new password\n",
    "        password1 = input(\"Enter a new password (8-12 characters): \")\n",
    "\n",
    "        # Prompt the user to confirm the password\n",
    "        password2 = input(\"Confirm the password: \")\n",
    "\n",
    "        # Check if the passwords match\n",
    "        if password1 == password2:\n",
    "            # Check if the password length is within the specified range\n",
    "            if 8 <= len(password1) <= 12:\n",
    "                print(\"Password Set\")\n",
    "                break\n",
    "            else:\n",
    "                print(\"Error: Password must be between 8 and 12 characters. Please try again.\")\n",
    "        else:\n",
    "            print(\"Error: Passwords do not match. Please try again.\")\n",
    "\n",
    "# Call the function to set the password\n",
    "set_password()\n"
   ]
  },
  {
   "cell_type": "markdown",
   "id": "eaeffc4e",
   "metadata": {},
   "source": [
    "4.Modify your program again so that the chosen password cannot be one of a list of common passwords, defined thus:\n",
    "BAD_PASSWORDS = ['password', 'letmein', 'sesame', 'hello', 'justinbieber']"
   ]
  },
  {
   "cell_type": "code",
   "execution_count": null,
   "id": "6f9c036b",
   "metadata": {},
   "outputs": [],
   "source": [
    "BAD_PASSWORDS = ['password', 'letmein', 'sesame', 'hello', 'justinbieber']\n",
    "\n",
    "def set_password():\n",
    "    while True:\n",
    "        # Prompt the user for a new password\n",
    "        password1 = input(\"Enter a new password (8-12 characters): \")\n",
    "\n",
    "        # Prompt the user to confirm the password\n",
    "        password2 = input(\"Confirm the password: \")\n",
    "\n",
    "        # Check if the passwords match\n",
    "        if password1 == password2:\n",
    "            # Check if the password length is within the specified range\n",
    "            if 8 <= len(password1) <= 12:\n",
    "                # Check if the password is not in the list of bad passwords\n",
    "                if password1.lower() not in BAD_PASSWORDS:\n",
    "                    print(\"Password Set\")\n",
    "                    break\n",
    "                else:\n",
    "                    print(\"Error: This password is too common. Please choose a different one.\")\n",
    "            else:\n",
    "                print(\"Error: Password must be between 8 and 12 characters. Please try again.\")\n",
    "        else:\n",
    "            print(\"Error: Passwords do not match. Please try again.\")\n",
    "\n",
    "# Call the function to set the password\n",
    "set_password()\n"
   ]
  },
  {
   "cell_type": "markdown",
   "id": "723824ed",
   "metadata": {},
   "source": [
    "5.Modify your program a final time so that it executes until the user successfully chooses a password. That is, if the password chosen fails any of the checks, theprogram should return to asking for the password the first time."
   ]
  },
  {
   "cell_type": "code",
   "execution_count": null,
   "id": "b39d5c81",
   "metadata": {},
   "outputs": [],
   "source": [
    "BAD_PASSWORDS = ['password', 'letmein', 'sesame', 'hello', 'justinbieber']\n",
    "\n",
    "def set_password():\n",
    "    while True:\n",
    "        # Prompt the user for a new password\n",
    "        password1 = input(\"Enter a new password (8-12 characters): \")\n",
    "\n",
    "        # Prompt the user to confirm the password\n",
    "        password2 = input(\"Confirm the password: \")\n",
    "\n",
    "        # Check if the passwords match\n",
    "        if password1 == password2:\n",
    "            # Check if the password length is within the specified range\n",
    "            if 8 <= len(password1) <= 12:\n",
    "                # Check if the password is not in the list of bad passwords\n",
    "                if password1.lower() not in BAD_PASSWORDS:\n",
    "                    print(\"Password Set\")\n",
    "                    return\n",
    "                else:\n",
    "                    print(\"Error: This password is too common. Please choose a different one.\")\n",
    "            else:\n",
    "                print(\"Error: Password must be between 8 and 12 characters. Please try again.\")\n",
    "        else:\n",
    "            print(\"Error: Passwords do not match. Please try again.\")\n",
    "\n",
    "# Call the function to set the password\n",
    "set_password()\n"
   ]
  },
  {
   "cell_type": "markdown",
   "id": "fe74a391",
   "metadata": {},
   "source": [
    "6.Write a program that displays the \"Seven Times Table\". That is, the result of\n",
    "multiplying 7 by every number from 0 to 12 inclusive. The output might start:\n",
    "0 x 7 = 0\n",
    "1 x 7 = 7\n",
    "2 x 7 = 14\n",
    "and so on."
   ]
  },
  {
   "cell_type": "code",
   "execution_count": null,
   "id": "4743874a",
   "metadata": {},
   "outputs": [],
   "source": [
    "def seven_times_table():\n",
    "    for i in range(13):\n",
    "        result = i * 7\n",
    "        print(f\"{i} x 7 = {result}\")\n",
    "\n",
    "# Call the function to display the Seven Times Table\n",
    "seven_times_table()\n"
   ]
  },
  {
   "cell_type": "markdown",
   "id": "eb7d1559",
   "metadata": {},
   "source": [
    "7.Modify your \"Times Table\" program so that the user enters the number of the table they require. This number should be between 0 and 12 inclusive."
   ]
  },
  {
   "cell_type": "code",
   "execution_count": null,
   "id": "aae9857f",
   "metadata": {},
   "outputs": [],
   "source": [
    "def times_table():\n",
    "    # Prompt the user for the desired times table\n",
    "    table_number = int(input(\"Enter the number for the times table (0-12): \"))\n",
    "\n",
    "    # Check if the entered number is within the valid range\n",
    "    if 0 <= table_number <= 12:\n",
    "        # Display the specified times table\n",
    "        for i in range(13):\n",
    "            result = i * table_number\n",
    "            print(f\"{i} x {table_number} = {result}\")\n",
    "    else:\n",
    "        print(\"Error: Please enter a number between 0 and 12.\")\n",
    "\n",
    "# Call the function to display the specified times table\n",
    "times_table()\n"
   ]
  },
  {
   "cell_type": "markdown",
   "id": "88685445",
   "metadata": {},
   "source": [
    "8.Modify the \"Times Table\" again so that the user still enters the number of the table,but if this number is negative the table is printed backwards. So entering \"-7\" would produce the Seven Times Table starting at \"12 times\" down to \"0 times\"."
   ]
  },
  {
   "cell_type": "code",
   "execution_count": null,
   "id": "ec7b8876",
   "metadata": {},
   "outputs": [],
   "source": [
    "def times_table():\n",
    "    # Prompt the user for the desired times table\n",
    "    table_number = int(input(\"Enter the number for the times table: \"))\n",
    "\n",
    "    # Check if the entered number is positive or negative\n",
    "    if table_number >= 0:\n",
    "        # Display the times table in the regular order\n",
    "        for i in range(13):\n",
    "            result = i * table_number\n",
    "            print(f\"{i} x {table_number} = {result}\")\n",
    "    else:\n",
    "        # Display the times table in reverse order for negative numbers\n",
    "        for i in range(12, -1, -1):\n",
    "            result = i * table_number\n",
    "            print(f\"{i} x {table_number} = {result}\")\n",
    "\n",
    "# Call the function to display the specified times table\n",
    "times_table()\n"
   ]
  }
 ],
 "metadata": {
  "kernelspec": {
   "display_name": "Python 3 (ipykernel)",
   "language": "python",
   "name": "python3"
  },
  "language_info": {
   "codemirror_mode": {
    "name": "ipython",
    "version": 3
   },
   "file_extension": ".py",
   "mimetype": "text/x-python",
   "name": "python",
   "nbconvert_exporter": "python",
   "pygments_lexer": "ipython3",
   "version": "3.9.13"
  }
 },
 "nbformat": 4,
 "nbformat_minor": 5
}
