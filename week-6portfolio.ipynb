{
 "cells": [
  {
   "cell_type": "markdown",
   "id": "49fa23cd",
   "metadata": {},
   "source": [
    "1.Write a function that accepts a positive integer as a parameter and then returns a representation of that number in binary (base 2).\n",
    "Hint: This is in many ways a trick question. Think!"
   ]
  },
  {
   "cell_type": "code",
   "execution_count": null,
   "id": "97d574ad",
   "metadata": {},
   "outputs": [],
   "source": [
    "def decimal_to_binary(num):\n",
    "    binary_representation = bin(num)[2:]\n",
    "    return binary_representation\n",
    "\n",
    "# Test the function\n",
    "decimal_number = int(input(\"Enter a positive integer: \"))\n",
    "binary_result = decimal_to_binary(decimal_number)\n",
    "print(f\"The binary representation of {decimal_number} is: {binary_result}\")\n"
   ]
  },
  {
   "cell_type": "code",
   "execution_count": null,
   "id": "3075cf1b",
   "metadata": {},
   "outputs": [],
   "source": [
    "def decimal_to_binary_manual(num):\n",
    "    if num == 0:\n",
    "        return \"0\"\n",
    "    \n",
    "    binary_representation = \"\"\n",
    "    while num > 0:\n",
    "        remainder = num % 2\n",
    "        binary_representation = str(remainder) + binary_representation\n",
    "        num //= 2\n",
    "\n",
    "    return binary_representation\n",
    "\n",
    "# Test the function\n",
    "decimal_number = int(input(\"Enter a positive integer: \"))\n",
    "binary_result_manual = decimal_to_binary_manual(decimal_number)\n",
    "print(f\"The binary representation of {decimal_number} is: {binary_result_manual}\")\n"
   ]
  },
  {
   "cell_type": "markdown",
   "id": "a215e138",
   "metadata": {},
   "source": [
    "2.Write and test a function that takes an integer as its parameter and returns the factors of that integer. (A factor is an integer which can be multiplied by another to yield the original)."
   ]
  },
  {
   "cell_type": "code",
   "execution_count": null,
   "id": "88fcf618",
   "metadata": {},
   "outputs": [],
   "source": [
    "def find_factors(num):\n",
    "    factors = []\n",
    "\n",
    "    # Iterate from 1 to the square root of the number\n",
    "    for i in range(1, int(num**0.5) + 1):\n",
    "        # Check if i is a factor of num\n",
    "        if num % i == 0:\n",
    "            factors.append(i)\n",
    "\n",
    "            # If i is not the square root of num, add the corresponding factor\n",
    "            if i != num // i:\n",
    "                factors.append(num // i)\n",
    "\n",
    "    # Sort the factors in ascending order\n",
    "    factors.sort()\n",
    "\n",
    "    return factors\n",
    "\n",
    "# Test the function\n",
    "integer_input = int(input(\"Enter an integer: \"))\n",
    "result_factors = find_factors(integer_input)\n",
    "\n",
    "print(f\"The factors of {integer_input} are: {result_factors}\")\n"
   ]
  },
  {
   "cell_type": "markdown",
   "id": "c984a2bc",
   "metadata": {},
   "source": [
    "3.Write and test a function that determines if a given integer is a prime number. A prime number is an integer greater than 1 that cannot be produced by multiplying two other integers."
   ]
  },
  {
   "cell_type": "code",
   "execution_count": null,
   "id": "48fc0d45",
   "metadata": {},
   "outputs": [],
   "source": [
    "def is_prime(num):\n",
    "    if num <= 1:\n",
    "        return False\n",
    "    elif num == 2:\n",
    "        return True\n",
    "    elif num % 2 == 0:\n",
    "        return False\n",
    "    else:\n",
    "        # Check for factors starting from 3 up to the square root of the number\n",
    "        for i in range(3, int(num**0.5) + 1, 2):\n",
    "            if num % i == 0:\n",
    "                return False\n",
    "        return True\n",
    "\n",
    "# Test the function\n",
    "integer_input = int(input(\"Enter an integer: \"))\n",
    "if is_prime(integer_input):\n",
    "    print(f\"{integer_input} is a prime number.\")\n",
    "else:\n",
    "    print(f\"{integer_input} is not a prime number.\")\n"
   ]
  },
  {
   "cell_type": "markdown",
   "id": "042e5076",
   "metadata": {},
   "source": [
    "4.Computers are commonly used in encryption. A very simple form of encryption (more accurately\n",
    "\"obfuscation\") would be to remove the spaces from a message and reverse the resulting string. Write,\n",
    "and test, a function that takes a string containing a message and \"encrypts\" it in this way."
   ]
  },
  {
   "cell_type": "code",
   "execution_count": null,
   "id": "f00139a2",
   "metadata": {},
   "outputs": [],
   "source": [
    "def simple_encrypt(message):\n",
    "    # Remove spaces from the message\n",
    "    message_without_spaces = message.replace(\" \", \"\")\n",
    "\n",
    "    # Reverse the string\n",
    "    encrypted_message = message_without_spaces[::-1]\n",
    "\n",
    "    return encrypted_message\n",
    "\n",
    "# Test the function\n",
    "original_message = input(\"Enter the message to encrypt: \")\n",
    "encrypted_result = simple_encrypt(original_message)\n",
    "\n",
    "print(f\"The encrypted message: {encrypted_result}\")\n"
   ]
  },
  {
   "cell_type": "markdown",
   "id": "071fd1ab",
   "metadata": {},
   "source": [
    "5.Another way to hide a message is to include the letters that make it up within seemingly random text. The letters of the message might be every fifth character, for example. Write and test a function that does such encryption. It should randomly generate an interval (between 2 and 20), space the message out accordingly, and should fill the gaps with random letters. The function should return the encrypted message and the interval used. \n",
    "For example, if the message is \"send cheese\", the random interval is 2, and for clarity the random letters are not random:\n",
    "send cheese\n",
    "s e n d c h e e s e\n",
    "sxyexynxydxy cxyhxyexyexysxye"
   ]
  },
  {
   "cell_type": "code",
   "execution_count": 1,
   "id": "93b6a69a",
   "metadata": {},
   "outputs": [
    {
     "name": "stdout",
     "output_type": "stream",
     "text": [
      "Enter the message to encrypt: send cheese\n",
      "\n",
      "The encrypted message with interval 2:\n",
      "Original: send cheese\n",
      "Encrypted: seandzgcxhebesxe\n"
     ]
    }
   ],
   "source": [
    "import random\n",
    "import string\n",
    "\n",
    "def random_interval_encrypt(message):\n",
    "    # Generate a random interval between 2 and 20\n",
    "    interval = random.randint(2, 20)\n",
    "\n",
    "    # Fill gaps with random letters\n",
    "    encrypted_message = \"\"\n",
    "    for i, char in enumerate(message):\n",
    "        if char.isalpha():\n",
    "            encrypted_message += char\n",
    "        else:\n",
    "            random_letter = random.choice(string.ascii_lowercase)\n",
    "            encrypted_message += random_letter\n",
    "\n",
    "        if (i + 1) % interval == 0:\n",
    "            random_letter = random.choice(string.ascii_lowercase)\n",
    "            encrypted_message += random_letter\n",
    "\n",
    "    return encrypted_message, interval\n",
    "\n",
    "# Test the function\n",
    "original_message = input(\"Enter the message to encrypt: \")\n",
    "encrypted_result, interval_used = random_interval_encrypt(original_message)\n",
    "\n",
    "print(f\"\\nThe encrypted message with interval {interval_used}:\")\n",
    "print(f\"Original: {original_message}\")\n",
    "print(f\"Encrypted: {encrypted_result}\")\n"
   ]
  },
  {
   "cell_type": "markdown",
   "id": "286c602a",
   "metadata": {},
   "source": [
    "6.Write a program that decrypts messages encoded as above."
   ]
  },
  {
   "cell_type": "code",
   "execution_count": null,
   "id": "496ff261",
   "metadata": {},
   "outputs": [],
   "source": [
    "def random_interval_decrypt(encrypted_message, interval):\n",
    "    decrypted_message = \"\"\n",
    "    index = 0\n",
    "\n",
    "    for char in encrypted_message:\n",
    "        if char.isalpha():\n",
    "            decrypted_message += char\n",
    "            index += 1\n",
    "\n",
    "        if index % interval == 0:\n",
    "            index += 1\n",
    "\n",
    "    return decrypted_message\n",
    "\n",
    "# Test the decryption function\n",
    "encrypted_message = input(\"Enter the encrypted message: \")\n",
    "interval_used = int(input(\"Enter the interval used for encryption: \"))\n",
    "\n",
    "decrypted_result = random_interval_decrypt(encrypted_message, interval_used)\n",
    "\n",
    "print(f\"\\nThe decrypted message:\")\n",
    "print(f\"Encrypted: {encrypted_message}\")\n",
    "print(f\"Decrypted: {decrypted_result}\")\n"
   ]
  }
 ],
 "metadata": {
  "kernelspec": {
   "display_name": "Python 3 (ipykernel)",
   "language": "python",
   "name": "python3"
  },
  "language_info": {
   "codemirror_mode": {
    "name": "ipython",
    "version": 3
   },
   "file_extension": ".py",
   "mimetype": "text/x-python",
   "name": "python",
   "nbconvert_exporter": "python",
   "pygments_lexer": "ipython3",
   "version": "3.9.13"
  }
 },
 "nbformat": 4,
 "nbformat_minor": 5
}
