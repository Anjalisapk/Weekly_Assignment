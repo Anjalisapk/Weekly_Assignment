{
 "cells": [
  {
   "cell_type": "markdown",
   "id": "b8de0657",
   "metadata": {},
   "source": [
    "1.Functions are often used to validate input. Write a function that accepts a single integer as a parameter and returns True if the integer is in the range 0 to 100 (inclusive), or False otherwise. Write a short program to test the function."
   ]
  },
  {
   "cell_type": "code",
   "execution_count": null,
   "id": "52d9ad98",
   "metadata": {},
   "outputs": [],
   "source": [
    "def is_in_range(num):\n",
    "    return 0 <= num <= 100\n",
    "\n",
    "# Test the function\n",
    "test_number = int(input(\"Enter an integer to test: \"))\n",
    "\n",
    "if is_in_range(test_number):\n",
    "    print(f\"{test_number} is in the range 0 to 100.\")\n",
    "else:\n",
    "    print(f\"{test_number} is outside the range 0 to 100.\")\n"
   ]
  },
  {
   "cell_type": "markdown",
   "id": "5c8df9de",
   "metadata": {},
   "source": [
    "2.Write a function that has a single string as its parameter, and returns the number of uppercase letters, and the number of lowercase letters in the string. Test the function with a short program.\n",
    "\n"
   ]
  },
  {
   "cell_type": "code",
   "execution_count": 3,
   "id": "6c5abf1e",
   "metadata": {},
   "outputs": [
    {
     "name": "stdout",
     "output_type": "stream",
     "text": [
      "Enter a string to test: anj\n",
      "Uppercase letters: 0\n",
      "Lowercase letters: 3\n"
     ]
    }
   ],
   "source": [
    "def count_upper_lower(input_string):\n",
    "    # Initialize counters\n",
    "    upper_count = 0\n",
    "    lower_count = 0\n",
    "\n",
    "    # Iterate through each character in the string\n",
    "    for char in input_string:\n",
    "        # Check if the character is uppercase\n",
    "        if char.isupper():\n",
    "            upper_count += 1\n",
    "        # Check if the character is lowercase\n",
    "        elif char.islower():\n",
    "            lower_count += 1\n",
    "\n",
    "    # Return the counts\n",
    "    return upper_count, lower_count\n",
    "\n",
    "# Test the function\n",
    "test_string = input(\"Enter a string to test: \")\n",
    "\n",
    "upper, lower = count_upper_lower(test_string)\n",
    "\n",
    "print(f\"Uppercase letters: {upper}\")\n",
    "print(f\"Lowercase letters: {lower}\")\n"
   ]
  },
  {
   "cell_type": "markdown",
   "id": "5d218641",
   "metadata": {},
   "source": [
    "3.Modify your \"greetings\" program so that the first letter of the name entered is always in uppercase with the rest in lowercase. This should happen even if the user entered their name differently. So if the user entered arthur, ARTHUR, or even arTHur the name should be displayed as Arthur."
   ]
  },
  {
   "cell_type": "code",
   "execution_count": 6,
   "id": "edf0aef0",
   "metadata": {},
   "outputs": [
    {
     "name": "stdout",
     "output_type": "stream",
     "text": [
      "Enter your name: sapkota\n",
      "Hello, Sapkota!\n"
     ]
    }
   ],
   "source": [
    "def greet_user():\n",
    "    # Prompt the user for their name\n",
    "    user_name = input(\"Enter your name: \")\n",
    "\n",
    "    # Format the name with the first letter in uppercase and the rest in lowercase\n",
    "    formatted_name = user_name.capitalize()\n",
    "\n",
    "    # Display the greeting\n",
    "    print(f\"Hello, {formatted_name}!\")\n",
    "\n",
    "# Call the function to greet the user\n",
    "greet_user()\n"
   ]
  },
  {
   "cell_type": "markdown",
   "id": "5abf25ff",
   "metadata": {},
   "source": [
    "4.When processing data it is often useful to remove the last character from some input (it is often a newline). Write and test a function that takes a string parameter and returns it with the last character removed. (If the string contains one or fewer characters, return it unchanged.)"
   ]
  },
  {
   "cell_type": "code",
   "execution_count": null,
   "id": "2c362b65",
   "metadata": {},
   "outputs": [],
   "source": [
    "def remove_last_character(input_string):\n",
    "    # Check if the string has one or fewer characters\n",
    "    if len(input_string) <= 1:\n",
    "        return input_string\n",
    "\n",
    "    # Remove the last character and return the modified string\n",
    "    return input_string[:-1]\n",
    "\n",
    "# Test the function\n",
    "test_input = input(\"Enter a string to test: \")\n",
    "\n",
    "result = remove_last_character(test_input)\n",
    "\n",
    "print(f\"Original string: {test_input}\")\n",
    "print(f\"String with last character removed: {result}\")\n"
   ]
  },
  {
   "cell_type": "markdown",
   "id": "144a8b38",
   "metadata": {},
   "source": [
    "5.Write and test a function that converts a temperature measured in degrees centigrade into the equivalent in fahrenheit, and another that does the reverse conversion. Test both functions. (Google will find you the formulae)."
   ]
  },
  {
   "cell_type": "code",
   "execution_count": null,
   "id": "aed75553",
   "metadata": {},
   "outputs": [],
   "source": [
    "def celsius_to_fahrenheit(celsius):\n",
    "    fahrenheit = (celsius * 9/5) + 32\n",
    "    return fahrenheit\n",
    "\n",
    "def fahrenheit_to_celsius(fahrenheit):\n",
    "    celsius = (fahrenheit - 32) * 5/9\n",
    "    return celsius\n",
    "\n",
    "# Test the functions\n",
    "celsius_temperature = float(input(\"Enter temperature in Celsius: \"))\n",
    "fahrenheit_result = celsius_to_fahrenheit(celsius_temperature)\n",
    "print(f\"{celsius_temperature}°C is equal to {fahrenheit_result:.2f}°F\")\n",
    "\n",
    "fahrenheit_temperature = float(input(\"Enter temperature in Fahrenheit: \"))\n",
    "celsius_result = fahrenheit_to_celsius(fahrenheit_temperature)\n",
    "print(f\"{fahrenheit_temperature}°F is equal to {celsius_result:.2f}°C\")\n"
   ]
  },
  {
   "cell_type": "markdown",
   "id": "1bce5d10",
   "metadata": {},
   "source": [
    "6.Write a program that takes a centigrade temperature and displays the equivalent in fahrenheit.The \n",
    "input should be a number followed by a letter C. The output should\n",
    "be in the same format."
   ]
  },
  {
   "cell_type": "code",
   "execution_count": null,
   "id": "5857c07c",
   "metadata": {},
   "outputs": [],
   "source": [
    "def celsius_to_fahrenheit(celsius):\n",
    "    fahrenheit = (celsius * 9/5) + 32\n",
    "    return fahrenheit\n",
    "\n",
    "# Input temperature in the format \"number C\"\n",
    "temperature_input = input(\"Enter a temperature in Celsius (e.g., 25 C): \")\n",
    "\n",
    "# Extract the numeric part (temperature) and convert it to float\n",
    "celsius_temperature = float(temperature_input[:-2])\n",
    "\n",
    "# Convert Celsius to Fahrenheit\n",
    "fahrenheit_result = celsius_to_fahrenheit(celsius_temperature)\n",
    "\n",
    "# Display the result in the same format\n",
    "print(f\"The equivalent in Fahrenheit: {fahrenheit_result:.2f} F\")\n"
   ]
  },
  {
   "cell_type": "markdown",
   "id": "42034a28",
   "metadata": {},
   "source": [
    "7.Write a program that reads 6 temperatures (in the same format as before), and displays the maximum,\n",
    "minimum, and mean of the values. Hint: You should know there are built-in functions for max and min. \n",
    "If you hunt, you might also find one for the mean.\n",
    "\n"
   ]
  },
  {
   "cell_type": "code",
   "execution_count": null,
   "id": "73fc278b",
   "metadata": {},
   "outputs": [],
   "source": [
    "def celsius_to_fahrenheit(celsius):\n",
    "    return (celsius * 9/5) + 32\n",
    "\n",
    "# Initialize variables\n",
    "temperatures = []\n",
    "\n",
    "# Input 6 temperatures\n",
    "for i in range(6):\n",
    "    temperature_input = input(f\"Enter temperature {i + 1} in Celsius (e.g., 25 C): \")\n",
    "    celsius_temperature = float(temperature_input[:-2])\n",
    "    temperatures.append(celsius_temperature)\n",
    "\n",
    "# Convert temperatures to Fahrenheit\n",
    "fahrenheit_temperatures = [celsius_to_fahrenheit(temp) for temp in temperatures]\n",
    "\n",
    "# Calculate and display results\n",
    "max_temperature = max(fahrenheit_temperatures)\n",
    "min_temperature = min(fahrenheit_temperatures)\n",
    "mean_temperature = sum(fahrenheit_temperatures) / len(fahrenheit_temperatures)\n",
    "\n",
    "print(f\"\\nMaximum temperature: {max_temperature:.2f} F\")\n",
    "print(f\"Minimum temperature: {min_temperature:.2f} F\")\n",
    "print(f\"Mean temperature: {mean_temperature:.2f} F\")\n"
   ]
  },
  {
   "cell_type": "markdown",
   "id": "b3425ea4",
   "metadata": {},
   "source": [
    "8.Modify the previous program so that it can process any number of values. The input terminates when the user just pressed \"Enter\" at the prompt rather than entering a value."
   ]
  },
  {
   "cell_type": "code",
   "execution_count": null,
   "id": "8ad3efa1",
   "metadata": {},
   "outputs": [],
   "source": [
    "def celsius_to_fahrenheit(celsius):\n",
    "    return (celsius * 9/5) + 32\n",
    "\n",
    "# Initialize an empty list to store temperatures\n",
    "temperatures = []\n",
    "\n",
    "# Input temperatures until the user presses \"Enter\"\n",
    "while True:\n",
    "    temperature_input = input(\"Enter a temperature in Celsius (or press Enter to finish): \")\n",
    "\n",
    "    # Check if the user pressed Enter without entering a value\n",
    "    if not temperature_input:\n",
    "        break\n",
    "\n",
    "    # Convert the input to Celsius and add it to the list\n",
    "    celsius_temperature = float(temperature_input[:-2])\n",
    "    temperatures.append(celsius_temperature)\n",
    "\n",
    "# Check if there are values entered\n",
    "if not temperatures:\n",
    "    print(\"No temperatures entered.\")\n",
    "else:\n",
    "    # Convert temperatures to Fahrenheit\n",
    "    fahrenheit_temperatures = [celsius_to_fahrenheit(temp) for temp in temperatures]\n",
    "\n",
    "    # Calculate and display results\n",
    "    max_temperature = max(fahrenheit_temperatures)\n",
    "    min_temperature = min(fahrenheit_temperatures)\n",
    "    mean_temperature = sum(fahrenheit_temperatures) / len(fahrenheit_temperatures)\n",
    "\n",
    "    print(f\"\\nMaximum temperature: {max_temperature:.2f} F\")\n",
    "    print(f\"Minimum temperature: {min_temperature:.2f} F\")\n",
    "    print(f\"Mean temperature: {mean_temperature:.2f} F\")\n"
   ]
  }
 ],
 "metadata": {
  "kernelspec": {
   "display_name": "Python 3 (ipykernel)",
   "language": "python",
   "name": "python3"
  },
  "language_info": {
   "codemirror_mode": {
    "name": "ipython",
    "version": 3
   },
   "file_extension": ".py",
   "mimetype": "text/x-python",
   "name": "python",
   "nbconvert_exporter": "python",
   "pygments_lexer": "ipython3",
   "version": "3.9.13"
  }
 },
 "nbformat": 4,
 "nbformat_minor": 5
}
